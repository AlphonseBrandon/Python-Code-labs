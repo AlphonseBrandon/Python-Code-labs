{
 "cells": [
  {
   "cell_type": "markdown",
   "metadata": {},
   "source": [
    "### Declaring Variables"
   ]
  },
  {
   "cell_type": "code",
   "execution_count": 2,
   "metadata": {},
   "outputs": [
    {
     "name": "stdout",
     "output_type": "stream",
     "text": [
      "<class 'int'>\n"
     ]
    }
   ],
   "source": [
    "# Declare an integer variable\n",
    "\n",
    "age = 12\n",
    "\n",
    "print(type(age))"
   ]
  },
  {
   "cell_type": "code",
   "execution_count": 7,
   "metadata": {},
   "outputs": [
    {
     "name": "stdout",
     "output_type": "stream",
     "text": [
      "<class 'float'>\n"
     ]
    }
   ],
   "source": [
    "# Declare a float variable\n",
    "\n",
    "candidateHeight = 2.75\n",
    "\n",
    "print(type(candidateHeight))"
   ]
  },
  {
   "cell_type": "code",
   "execution_count": 6,
   "metadata": {},
   "outputs": [
    {
     "name": "stdout",
     "output_type": "stream",
     "text": [
      "<class 'str'>\n"
     ]
    }
   ],
   "source": [
    "# Declare a string variable\n",
    "\n",
    "candidateName = 'Ken'\n",
    "\n",
    "print(type(candidateName))"
   ]
  },
  {
   "cell_type": "code",
   "execution_count": 8,
   "metadata": {},
   "outputs": [
    {
     "name": "stdout",
     "output_type": "stream",
     "text": [
      "<class 'bool'>\n"
     ]
    }
   ],
   "source": [
    "# Declare a boolean variable\n",
    "\n",
    "candidateAbsence = True\n",
    "\n",
    "print(type(candidateAbsence))\n"
   ]
  },
  {
   "cell_type": "markdown",
   "metadata": {},
   "source": [
    "### Data Types & Type Conversion"
   ]
  },
  {
   "cell_type": "code",
   "execution_count": 14,
   "metadata": {},
   "outputs": [
    {
     "name": "stdout",
     "output_type": "stream",
     "text": [
      "<class 'int'>\n",
      "<class 'str'>\n"
     ]
    }
   ],
   "source": [
    "# Convert a string to an integer\n",
    "\n",
    "myName = \"Alphonse\"\n",
    "age = 12\n",
    "print(type(age))\n",
    "\n",
    "stringAge = str(age)\n",
    "\n",
    "print(type(stringAge))\n",
    "\n",
    "# print(f\"My name is {myName} and I am {age} old\")"
   ]
  },
  {
   "cell_type": "code",
   "execution_count": 15,
   "metadata": {},
   "outputs": [
    {
     "name": "stdout",
     "output_type": "stream",
     "text": [
      "2\n"
     ]
    }
   ],
   "source": [
    "# Convert a float to an integer\n",
    "\n",
    "candidateHeight = 2.75\n",
    "candidateHeightInMeters = int(candidateHeight)\n",
    "print(candidateHeightInMeters)\n",
    "\n"
   ]
  },
  {
   "cell_type": "code",
   "execution_count": 18,
   "metadata": {},
   "outputs": [
    {
     "name": "stdout",
     "output_type": "stream",
     "text": [
      "<class 'int'>\n",
      "<class 'str'>\n"
     ]
    }
   ],
   "source": [
    "# Convert an integer to a string\n",
    "\n",
    "yearOfBirth = 1983\n",
    "yOB = str(yearOfBirth)\n",
    "print(type(yearOfBirth))\n",
    "\n",
    "print(type(yOB))"
   ]
  },
  {
   "cell_type": "code",
   "execution_count": null,
   "metadata": {
    "vscode": {
     "languageId": "plaintext"
    }
   },
   "outputs": [],
   "source": [
    "### Basic Operations"
   ]
  },
  {
   "cell_type": "code",
   "execution_count": 22,
   "metadata": {},
   "outputs": [
    {
     "name": "stdout",
     "output_type": "stream",
     "text": [
      "£\n"
     ]
    },
    {
     "ename": "TypeError",
     "evalue": "unsupported operand type(s) for &: 'NoneType' and 'int'",
     "output_type": "error",
     "traceback": [
      "\u001b[1;31m---------------------------------------------------------------------------\u001b[0m",
      "\u001b[1;31mTypeError\u001b[0m                                 Traceback (most recent call last)",
      "\u001b[1;32md:\\GITHUBREPOSITORIES\\Python-Code-labs\\python_masterclass\\lessons\\lesson1.ipynb Cell 11\u001b[0m in \u001b[0;36m<cell line: 7>\u001b[1;34m()\u001b[0m\n\u001b[0;32m      <a href='vscode-notebook-cell:/d%3A/GITHUBREPOSITORIES/Python-Code-labs/python_masterclass/lessons/lesson1.ipynb#X13sZmlsZQ%3D%3D?line=3'>4</a>\u001b[0m myBossSalary \u001b[39m=\u001b[39m \u001b[39m10000\u001b[39m\n\u001b[0;32m      <a href='vscode-notebook-cell:/d%3A/GITHUBREPOSITORIES/Python-Code-labs/python_masterclass/lessons/lesson1.ipynb#X13sZmlsZQ%3D%3D?line=5'>6</a>\u001b[0m \u001b[39m# print(mySalary + myBossSalary)\u001b[39;00m\n\u001b[1;32m----> <a href='vscode-notebook-cell:/d%3A/GITHUBREPOSITORIES/Python-Code-labs/python_masterclass/lessons/lesson1.ipynb#X13sZmlsZQ%3D%3D?line=6'>7</a>\u001b[0m \u001b[39mprint\u001b[39;49m(\u001b[39m'\u001b[39;49m\u001b[39m£\u001b[39;49m\u001b[39m'\u001b[39;49m) \u001b[39m&\u001b[39;49m (mySalary \u001b[39m+\u001b[39;49m myBossSalary)\n",
      "\u001b[1;31mTypeError\u001b[0m: unsupported operand type(s) for &: 'NoneType' and 'int'"
     ]
    }
   ],
   "source": [
    "# Declare two integer variables and perform addition\n",
    "\n",
    "mySalary = 5000\n",
    "myBossSalary = 10000\n",
    "\n",
    "# print(mySalary + myBossSalary)\n",
    "print('£') & (mySalary + myBossSalary)"
   ]
  },
  {
   "cell_type": "code",
   "execution_count": 29,
   "metadata": {},
   "outputs": [
    {
     "name": "stdout",
     "output_type": "stream",
     "text": [
      "899.6400000000001\n",
      "899.6400000000001\n"
     ]
    }
   ],
   "source": [
    "# Declare two float variables and perform multiplication\n",
    "\n",
    "temperatureToday = 35.7\n",
    "temperatureTomorrow = 25.2\n",
    "\n",
    "sumOfTemperature = temperatureToday * temperatureTomorrow\n",
    "\n",
    "print(sumOfTemperature)\n",
    "\n",
    "print(temperatureToday * temperatureTomorrow)"
   ]
  },
  {
   "cell_type": "code",
   "execution_count": 34,
   "metadata": {},
   "outputs": [
    {
     "name": "stdout",
     "output_type": "stream",
     "text": [
      "BBC News\n",
      "the nework name is BBC\n",
      "The channel type is {}\n"
     ]
    },
    {
     "ename": "AttributeError",
     "evalue": "'NoneType' object has no attribute 'format'",
     "output_type": "error",
     "traceback": [
      "\u001b[1;31m---------------------------------------------------------------------------\u001b[0m",
      "\u001b[1;31mAttributeError\u001b[0m                            Traceback (most recent call last)",
      "\u001b[1;32md:\\GITHUBREPOSITORIES\\Python-Code-labs\\python_masterclass\\lessons\\lesson1.ipynb Cell 13\u001b[0m in \u001b[0;36m<cell line: 10>\u001b[1;34m()\u001b[0m\n\u001b[0;32m      <a href='vscode-notebook-cell:/d%3A/GITHUBREPOSITORIES/Python-Code-labs/python_masterclass/lessons/lesson1.ipynb#X15sZmlsZQ%3D%3D?line=5'>6</a>\u001b[0m \u001b[39mprint\u001b[39m(networkName \u001b[39m+\u001b[39m \u001b[39m'\u001b[39m\u001b[39m \u001b[39m\u001b[39m'\u001b[39m \u001b[39m+\u001b[39m channelType)\n\u001b[0;32m      <a href='vscode-notebook-cell:/d%3A/GITHUBREPOSITORIES/Python-Code-labs/python_masterclass/lessons/lesson1.ipynb#X15sZmlsZQ%3D%3D?line=7'>8</a>\u001b[0m \u001b[39mprint\u001b[39m(\u001b[39mf\u001b[39m\u001b[39m\"\u001b[39m\u001b[39mthe nework name is \u001b[39m\u001b[39m{\u001b[39;00mnetworkName\u001b[39m}\u001b[39;00m\u001b[39m\"\u001b[39m)\n\u001b[1;32m---> <a href='vscode-notebook-cell:/d%3A/GITHUBREPOSITORIES/Python-Code-labs/python_masterclass/lessons/lesson1.ipynb#X15sZmlsZQ%3D%3D?line=9'>10</a>\u001b[0m \u001b[39mprint\u001b[39;49m(\u001b[39m\"\u001b[39;49m\u001b[39mThe channel type is \u001b[39;49m\u001b[39m{}\u001b[39;49;00m\u001b[39m\"\u001b[39;49m)\u001b[39m.\u001b[39;49mformat(channelType)\n",
      "\u001b[1;31mAttributeError\u001b[0m: 'NoneType' object has no attribute 'format'"
     ]
    }
   ],
   "source": [
    "# Declare two string variables and perform concatenation\n",
    "\n",
    "networkName = 'BBC'\n",
    "channelType = 'News'\n",
    "\n",
    "print(networkName + ' ' + channelType)\n",
    "\n",
    "print(f\"the nework name is {networkName}\")\n",
    "\n"
   ]
  },
  {
   "cell_type": "code",
   "execution_count": null,
   "metadata": {},
   "outputs": [],
   "source": []
  }
 ],
 "metadata": {
  "kernelspec": {
   "display_name": "Python 3.10.6 64-bit",
   "language": "python",
   "name": "python3"
  },
  "language_info": {
   "codemirror_mode": {
    "name": "ipython",
    "version": 3
   },
   "file_extension": ".py",
   "mimetype": "text/x-python",
   "name": "python",
   "nbconvert_exporter": "python",
   "pygments_lexer": "ipython3",
   "version": "3.10.6"
  },
  "orig_nbformat": 4,
  "vscode": {
   "interpreter": {
    "hash": "626d1fe66a228df330023f8a4d43a2626a3e8ec3ecf2911dbf50c16ea94dac8b"
   }
  }
 },
 "nbformat": 4,
 "nbformat_minor": 2
}
