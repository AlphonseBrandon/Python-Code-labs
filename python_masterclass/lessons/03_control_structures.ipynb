{
 "cells": [
  {
   "cell_type": "markdown",
   "metadata": {},
   "source": [
    "### If-elif-else Statements"
   ]
  },
  {
   "cell_type": "code",
   "execution_count": null,
   "metadata": {},
   "outputs": [],
   "source": [
    "# Declare a variable\n",
    "x = 10\n",
    "y = 5\n",
    "\n"
   ]
  },
  {
   "cell_type": "code",
   "execution_count": null,
   "metadata": {},
   "outputs": [],
   "source": [
    "x < 5"
   ]
  },
  {
   "cell_type": "code",
   "execution_count": null,
   "metadata": {},
   "outputs": [],
   "source": [
    "# Check if x is less than 5\n",
    "x < 5\n",
    "\n",
    "\n"
   ]
  },
  {
   "cell_type": "code",
   "execution_count": null,
   "metadata": {},
   "outputs": [],
   "source": [
    "# if <condition>:\n",
    "    # execute this\n",
    "\n"
   ]
  },
  {
   "cell_type": "code",
   "execution_count": null,
   "metadata": {},
   "outputs": [],
   "source": [
    "# Check if x is less than 5 and if it is less than 5, add 5 to it.\n",
    "x = 6\n",
    "if x < 5:\n",
    "    # add 5 to x\n",
    "    x += 5 \n",
    "    # print the new value of x\n",
    "    print(x)\n",
    "    # add an else statement\n",
    "else:\n",
    "    # add a print condition for else: X is greater than 5\n",
    "    print(x,\"greater than 5\")\n",
    "\n",
    "\n",
    "# def function_name():\n",
    "    # Block of code\n",
    "\n",
    "# A function that checks if a number is lesser than 5, if it is greater than 5, it prints the value of the number stating it is greater than 5\n",
    "\n",
    "def factors_of_five():\n",
    "    x = 6\n",
    "    if x < 5:\n",
    "        # add 5 to x\n",
    "        x += 5 \n",
    "        # print the new value of x\n",
    "        print(x)\n",
    "        # add an else statement\n",
    "    else:\n",
    "        # add a print condition for else: X is greater than 5\n",
    "        print(x,\"greater than 5\")"
   ]
  },
  {
   "cell_type": "code",
   "execution_count": null,
   "metadata": {},
   "outputs": [],
   "source": [
    "factors_of_five()"
   ]
  },
  {
   "cell_type": "code",
   "execution_count": null,
   "metadata": {},
   "outputs": [],
   "source": [
    "# Check if x is greater than or equal to 5 and less than 10, if true, print \"Yay\", if it is false, print \"Nay\"\n",
    "\n",
    "# define the funtion (def keyword and function_name():)\n",
    "def even_nos():\n",
    "    # If statement block of code\n",
    "    # Use logical operator AND = & to combine the two conditions\n",
    "    x = 11\n",
    "    # if <condition>:\n",
    "        # execute this\n",
    "    if x >= 5 and x < 10:\n",
    "        # execute this\n",
    "        print(\"Yay\")\n",
    "    else:\n",
    "        print(\"Nay\")\n",
    "        \n",
    "        \n",
    "\n",
    "    "
   ]
  },
  {
   "cell_type": "code",
   "execution_count": null,
   "metadata": {},
   "outputs": [],
   "source": [
    "# call the funtion_name\n",
    "even_nos()"
   ]
  },
  {
   "cell_type": "markdown",
   "metadata": {},
   "source": [
    "### While Loops"
   ]
  },
  {
   "cell_type": "code",
   "execution_count": 5,
   "metadata": {},
   "outputs": [],
   "source": [
    "# Declare a variable"
   ]
  },
  {
   "cell_type": "code",
   "execution_count": 6,
   "metadata": {},
   "outputs": [],
   "source": [
    "# Execute the following code block while x is less than 5"
   ]
  },
  {
   "cell_type": "markdown",
   "metadata": {},
   "source": [
    "### For Loops"
   ]
  },
  {
   "cell_type": "code",
   "execution_count": 7,
   "metadata": {},
   "outputs": [],
   "source": [
    "# Declare a list"
   ]
  },
  {
   "cell_type": "code",
   "execution_count": 8,
   "metadata": {},
   "outputs": [],
   "source": [
    "# Iterate over my_list and print each item"
   ]
  },
  {
   "cell_type": "code",
   "execution_count": null,
   "metadata": {},
   "outputs": [],
   "source": []
  }
 ],
 "metadata": {
  "kernelspec": {
   "display_name": "Python 3.10.6 64-bit",
   "language": "python",
   "name": "python3"
  },
  "language_info": {
   "codemirror_mode": {
    "name": "ipython",
    "version": 3
   },
   "file_extension": ".py",
   "mimetype": "text/x-python",
   "name": "python",
   "nbconvert_exporter": "python",
   "pygments_lexer": "ipython3",
   "version": "3.10.1"
  },
  "orig_nbformat": 4,
  "vscode": {
   "interpreter": {
    "hash": "626d1fe66a228df330023f8a4d43a2626a3e8ec3ecf2911dbf50c16ea94dac8b"
   }
  }
 },
 "nbformat": 4,
 "nbformat_minor": 2
}
